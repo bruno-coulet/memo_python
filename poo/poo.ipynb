{
 "cells": [
  {
   "cell_type": "markdown",
   "id": "8d376a76",
   "metadata": {
    "vscode": {
     "languageId": "plaintext"
    }
   },
   "source": [
    "# Programmation orientée objet\n",
    "Notes tirées du livre *Apprendre la programmation orientée objet avec le language python*, Vincent Boucheny\n",
    "ed. eni, février 2025\n",
    "\n",
    "### Déclaration et instanciation\n",
    "Il faut :\n",
    "1. déclarer une classe\n",
    "2. instancier un objet de cette classe pour pouvoir l'utiliser\n",
    "\n",
    "- Une classe est une définition, une abstration, elle peut avoir de multiple instances\n",
    "- Une instance est une repésentation concrète de la classe, elle ne peut avoir comme origine qu'une classe unique."
   ]
  },
  {
   "cell_type": "code",
   "execution_count": 30,
   "id": "84764550",
   "metadata": {},
   "outputs": [],
   "source": [
    "# Déclaration, informe l'environnement python de l'existence de la classe\n",
    "class MaClasse:\n",
    "    pass\n",
    "\n",
    "# Instanciation, permet d'utiliser un objet de la classe\n",
    "Objet_instanceDe_MaClasse = MaClasse()"
   ]
  },
  {
   "cell_type": "markdown",
   "id": "fa284a47",
   "metadata": {},
   "source": [
    "Lorsqu'une classe est instanciée, la méthode utilisée pour initialiser l'objet s'appelle `__init__`<br>\n",
    "C'est le constructuer de classe<br>\n",
    "Si elle n'est pas explicitement définie, un constructeur par défaut est automatiquement utilisé"
   ]
  },
  {
   "cell_type": "code",
   "execution_count": 31,
   "id": "6c96972a",
   "metadata": {},
   "outputs": [
    {
     "name": "stdout",
     "output_type": "stream",
     "text": [
      "<__main__.MaClasse object at 0x000001766626A4E0>\n"
     ]
    }
   ],
   "source": [
    "# Affiche le type de l'objet et son adresse mémoire\n",
    "print(Objet_instanceDe_MaClasse)"
   ]
  },
  {
   "cell_type": "markdown",
   "id": "4add6964",
   "metadata": {},
   "source": [
    "### Imbrication des classes\n",
    "\n",
    "Une classe peut être déclarée à l'intétieur d'une autre\n"
   ]
  },
  {
   "cell_type": "code",
   "execution_count": 32,
   "id": "81673f93",
   "metadata": {},
   "outputs": [],
   "source": [
    "class Voiture:\n",
    "    class Moteur:\n",
    "        pass\n",
    "    class Roue:\n",
    "        pass"
   ]
  },
  {
   "cell_type": "markdown",
   "id": "6b18e2af",
   "metadata": {},
   "source": [
    "L'imbrication n'impacte en rien le comportement du contenant ou du contenu.\n",
    "\n",
    "Mais il faut passer par la classe contenante pour utiliser la classe contenue via l'opérateur d'accès `.`"
   ]
  },
  {
   "cell_type": "code",
   "execution_count": 33,
   "id": "618f6277",
   "metadata": {},
   "outputs": [],
   "source": [
    "diesel_tdi = Voiture.Moteur()"
   ]
  },
  {
   "cell_type": "markdown",
   "id": "362438a3",
   "metadata": {},
   "source": [
    "## Attributs\n",
    "### Attribut de classe\n",
    "\n",
    "Variable associè à une classe<br>\n",
    "Ils sont lié à la classe\n",
    "\n",
    "Pour définir un attribut au sein d'une classe, on peut  :\n",
    "\n",
    "1. Assigner une valeur à cet attribut dans le corps de la classe"
   ]
  },
  {
   "cell_type": "code",
   "execution_count": 54,
   "id": "e7937d23",
   "metadata": {},
   "outputs": [
    {
     "name": "stdout",
     "output_type": "stream",
     "text": [
      "2\n"
     ]
    }
   ],
   "source": [
    "class Cercle:\n",
    "    # déclaration de l'attribut de classe 'rayon' dans le corps de la classe\n",
    "    rayon = 2\n",
    "\n",
    "print(Cercle.rayon)"
   ]
  },
  {
   "cell_type": "markdown",
   "id": "49dc051c",
   "metadata": {},
   "source": [
    "2. Attributs dynamiques<br>\n",
    "Définir l'attribut en dehors de la classe"
   ]
  },
  {
   "cell_type": "code",
   "execution_count": 55,
   "id": "862a754a",
   "metadata": {},
   "outputs": [
    {
     "name": "stdout",
     "output_type": "stream",
     "text": [
      "5\n"
     ]
    }
   ],
   "source": [
    "class Carre:\n",
    "    pass\n",
    "\n",
    "# déclaration de l'attribut de classe 'côté' en dehors de la classe\n",
    "Carre.cote = 5\n",
    "print(Carre.cote)"
   ]
  },
  {
   "cell_type": "markdown",
   "id": "c0779c5c",
   "metadata": {},
   "source": [
    "### Attribut d'instance\n",
    "\n",
    "rattachés à une instance<br>\n",
    "Les attributs de classe sont automatiquement reportés dans les instances de la classe (ici rayon = 2 et cote = 5)<br>\n",
    "Mais on peut modifier la valeur des attributs de classe dans une instance<br>\n",
    "Ou créer un attribut d'instance (ci-dessous couleur)"
   ]
  },
  {
   "cell_type": "code",
   "execution_count": 56,
   "id": "bd266d8d",
   "metadata": {},
   "outputs": [
    {
     "name": "stdout",
     "output_type": "stream",
     "text": [
      "rayon de l'instance : 10\n",
      "couleur de l'instance : rouge\n"
     ]
    }
   ],
   "source": [
    "instance = Cercle()\n",
    "instance.rayon = 10\n",
    "instance.couleur = \"rouge\"\n",
    "print(f\"rayon de l'instance : {instance.rayon}\\ncouleur de l'instance : {instance.couleur}\")"
   ]
  },
  {
   "cell_type": "markdown",
   "id": "01066bde",
   "metadata": {},
   "source": [
    "Si la valeur d'un attribut de classe est modifiée<br>\n",
    "Cela n'impacte pas les instances déjà créée\n",
    "\n",
    "Un attribut d'instance existe que tant que l'instance existe<br>\n",
    "Un attribut de classe existe que tant que la classe est définie (en général, toute l'exécution du programme)<br>\n",
    "Si on supprime l'instance, l'appel de ses paramètre retourne une erreur :"
   ]
  },
  {
   "cell_type": "code",
   "execution_count": 57,
   "id": "8ff14606",
   "metadata": {},
   "outputs": [
    {
     "ename": "NameError",
     "evalue": "name 'instance' is not defined",
     "output_type": "error",
     "traceback": [
      "\u001b[1;31m---------------------------------------------------------------------------\u001b[0m",
      "\u001b[1;31mNameError\u001b[0m                                 Traceback (most recent call last)",
      "Cell \u001b[1;32mIn[57], line 2\u001b[0m\n\u001b[0;32m      1\u001b[0m \u001b[38;5;28;01mdel\u001b[39;00m instance\n\u001b[1;32m----> 2\u001b[0m \u001b[38;5;28mprint\u001b[39m(\u001b[43minstance\u001b[49m\u001b[38;5;241m.\u001b[39mrayon)\n",
      "\u001b[1;31mNameError\u001b[0m: name 'instance' is not defined"
     ]
    }
   ],
   "source": [
    "del instance\n",
    "print(instance.rayon)"
   ]
  },
  {
   "cell_type": "code",
   "execution_count": 58,
   "id": "1b3f2577",
   "metadata": {},
   "outputs": [
    {
     "name": "stdout",
     "output_type": "stream",
     "text": [
      "2\n"
     ]
    }
   ],
   "source": [
    "print(Cercle.rayon)  # Cela fonctionnera car 'Cercle' existe toujours  "
   ]
  },
  {
   "cell_type": "markdown",
   "id": "437c5855",
   "metadata": {},
   "source": [
    "## Methodes\n",
    "Fonction définie dans une classe<br>\n",
    "A une instance de cette classe comme premier argument, appelée `self` par convention\n",
    "\n",
    "Pour çetre appelée, une méthode doit obligatoirement prendre en 1er argument une instance de la classe à l aquelle elle est liée (`self`)"
   ]
  },
  {
   "cell_type": "code",
   "execution_count": 63,
   "id": "99b65d4e",
   "metadata": {},
   "outputs": [
    {
     "name": "stdout",
     "output_type": "stream",
     "text": [
      "18.84\n"
     ]
    }
   ],
   "source": [
    "class Cercle:\n",
    "    # Déclaration de la méthode perimetre\n",
    "    def perimetre(self):\n",
    "        return 2 * 3.14 * self.rayon\n",
    "# Instanciation de l'objet c de classe cercle \n",
    "c = Cercle()\n",
    "# L'attribut rayon de l'instance c prend la valeur 3\n",
    "c.rayon = 3\n",
    "\n",
    "# Appel de la méthode perimetre() de l'instance c\n",
    "print(c.perimetre()) "
   ]
  },
  {
   "cell_type": "markdown",
   "id": "f968245e",
   "metadata": {},
   "source": [
    "En python l'instance est un parametre de la méthode\n",
    "\n",
    "Lorsqu'on appelle une méthode via une instance<br>\n",
    "c'est en fait la méthode de classe qui est appelée, avec l'instance en premier paramètre (`self`)<br>\n",
    "\n",
    "Donc les 2 lignes ci dessous sont équivalentes :"
   ]
  },
  {
   "cell_type": "code",
   "execution_count": 48,
   "id": "ac669b47",
   "metadata": {},
   "outputs": [
    {
     "data": {
      "text/plain": [
       "18.84"
      ]
     },
     "execution_count": 48,
     "metadata": {},
     "output_type": "execute_result"
    }
   ],
   "source": [
    "c.perimetre()\n",
    "Cercle.perimetre(c)"
   ]
  },
  {
   "cell_type": "code",
   "execution_count": null,
   "id": "718acf8b",
   "metadata": {},
   "outputs": [],
   "source": [
    "# del c"
   ]
  },
  {
   "cell_type": "code",
   "execution_count": 72,
   "id": "ab79a26b",
   "metadata": {},
   "outputs": [
    {
     "name": "stdout",
     "output_type": "stream",
     "text": [
      "<function Cercle.perimetre at 0x0000017667083F60>\n"
     ]
    }
   ],
   "source": [
    "# Affichage de la methode de classe\n",
    "print(Cercle.perimetre)"
   ]
  },
  {
   "cell_type": "code",
   "execution_count": 70,
   "id": "1e69d7ee",
   "metadata": {},
   "outputs": [
    {
     "data": {
      "text/plain": [
       "<bound method Cercle.perimetre of <__main__.Cercle object at 0x00000176664B3050>>"
      ]
     },
     "execution_count": 70,
     "metadata": {},
     "output_type": "execute_result"
    }
   ],
   "source": [
    "# Affichage de la methode d'instance (Si l'instance existe)\n",
    "c.perimetre "
   ]
  },
  {
   "cell_type": "markdown",
   "id": "4da96e0a",
   "metadata": {},
   "source": [
    "En tant qu'objet, une méthode peut être assignée à une variable<br>\n",
    "Par exemple ci-dessous :\n",
    "- `p` est la méthode `perimetre` de la classe `Cercle`"
   ]
  },
  {
   "cell_type": "code",
   "execution_count": 74,
   "id": "007796b8",
   "metadata": {},
   "outputs": [
    {
     "name": "stdout",
     "output_type": "stream",
     "text": [
      "<function Cercle.perimetre at 0x0000017667083F60>\n"
     ]
    }
   ],
   "source": [
    "p = Cercle.perimetre\n",
    "print(p)"
   ]
  },
  {
   "cell_type": "code",
   "execution_count": 68,
   "id": "6ca8b7a9",
   "metadata": {},
   "outputs": [
    {
     "data": {
      "text/plain": [
       "12.56"
      ]
     },
     "execution_count": 68,
     "metadata": {},
     "output_type": "execute_result"
    }
   ],
   "source": [
    "#  Instanciation\n",
    "c = Cercle()\n",
    "# Valeur 2 à l'attribut 'rayon'\n",
    "c.rayon = 2\n",
    "# Appel de la méthod de classe avec une instance\n",
    "p(c)"
   ]
  },
  {
   "cell_type": "markdown",
   "id": "e5093e96",
   "metadata": {},
   "source": [
    "- `p` est la méthode liée à l'instance `c` (avec une adresse mémoirre différente)<br>"
   ]
  },
  {
   "cell_type": "code",
   "execution_count": 75,
   "id": "7c0edd11",
   "metadata": {},
   "outputs": [
    {
     "name": "stdout",
     "output_type": "stream",
     "text": [
      "<bound method Cercle.perimetre of <__main__.Cercle object at 0x00000176664B3050>>\n"
     ]
    }
   ],
   "source": [
    "p = c.perimetre\n",
    "print(p)"
   ]
  },
  {
   "cell_type": "markdown",
   "id": "eb8b1027",
   "metadata": {},
   "source": [
    "On peut donc l'appeler sans argument<br>\n",
    "(`p` à une instance `c` et une valeur pour son parametre `rayon`)"
   ]
  },
  {
   "cell_type": "code",
   "execution_count": 76,
   "id": "6eafc15c",
   "metadata": {},
   "outputs": [
    {
     "name": "stdout",
     "output_type": "stream",
     "text": [
      "12.56\n"
     ]
    }
   ],
   "source": [
    "print(p())"
   ]
  },
  {
   "cell_type": "markdown",
   "id": "ddf7053c",
   "metadata": {},
   "source": [
    "- Sans parenthèses, on n'appelle pas, on accède à la méthode et à son adresse mémoire\n",
    "- Avec parenthèses, on appelle la méthode<br>\n",
    "Ici, `p` est \"appelable\"<br>\n",
    "On peut le vérifier avec la fonction `callable()` qui vérifie si un objet est appelable"
   ]
  },
  {
   "cell_type": "code",
   "execution_count": 77,
   "id": "381ce2fe",
   "metadata": {},
   "outputs": [
    {
     "data": {
      "text/plain": [
       "True"
      ]
     },
     "execution_count": 77,
     "metadata": {},
     "output_type": "execute_result"
    }
   ],
   "source": [
    "callable(p)"
   ]
  },
  {
   "cell_type": "code",
   "execution_count": null,
   "id": "d0622da8",
   "metadata": {},
   "outputs": [],
   "source": [
    "c = Cercle()\n",
    "c.rayon = 3\n",
    "\n",
    "cercle_methods = [\n",
    "    Cercle.diametre,\n",
    "    Cercle.perimetre,\n",
    "    Cercle.aire\n",
    "]\n",
    "\n",
    "for _ in cercle_methods:\n",
    "    # Affiche l'appel de chaque méthodes avec l'instance c comme premier argument (self)\n",
    "    print(_(c))"
   ]
  },
  {
   "cell_type": "markdown",
   "id": "6302fb48",
   "metadata": {},
   "source": [
    "## Constructeur : la méthode `__init__()`"
   ]
  },
  {
   "cell_type": "code",
   "execution_count": null,
   "id": "da3a017e",
   "metadata": {},
   "outputs": [
    {
     "name": "stdout",
     "output_type": "stream",
     "text": [
      "Appel du constructeur de MaClasse\n"
     ]
    }
   ],
   "source": [
    "class MaClasse:\n",
    "    # Déclaration du constructeur\n",
    "    def __init__(self):\n",
    "        # Surcharge du constructeur avec un message ou autre\n",
    "        print(\"Appel du constructeur de MaClasse\")\n",
    "\n",
    "\n",
    "# Instanciation de l'objet qui déclenche l'appel du constructeur\n",
    "obj = MaClasse()  "
   ]
  },
  {
   "cell_type": "markdown",
   "id": "516a365a",
   "metadata": {},
   "source": [
    "En réalité, le véritable constructeur de l'instance est la méthode `__new__()`<br>\n",
    "`__init__()` ne fait qu'appeler l'instance, c'est pour cela qu'il lui faut le paramètre `self` pour l'**initialiser**"
   ]
  },
  {
   "cell_type": "code",
   "execution_count": null,
   "id": "393694b3",
   "metadata": {},
   "outputs": [
    {
     "name": "stdout",
     "output_type": "stream",
     "text": [
      "Appel du vrai constructeur de Classe\n",
      "<__main__.Classe object at 0x0000017667033290>\n",
      "\n",
      "Appel de l'initialisateur de Classe\n",
      "<__main__.Classe object at 0x0000017667033290>\n"
     ]
    }
   ],
   "source": [
    "class Classe:\n",
    "    \n",
    "    def __new__(classe):\n",
    "        print(\"Appel du vrai constructeur de Classe\")\n",
    "        # Appel du constructeur parent pour créer l'instance\n",
    "        instance = super().__new__(classe)\n",
    "        print(instance)\n",
    "        return instance\n",
    "\n",
    "    def __init__(self):\n",
    "        print(\"\\nAppel de l'initialisateur de Classe\")\n",
    "        print(self)\n",
    "\n",
    "objet = Classe()\n"
   ]
  },
  {
   "cell_type": "markdown",
   "id": "d624b392",
   "metadata": {},
   "source": [
    "L'une des utilisations principale du `constructeur __init__()` est d'assigner des valeurs par défaut aux attributs d'instances"
   ]
  },
  {
   "cell_type": "code",
   "execution_count": 96,
   "id": "3cc12e3a",
   "metadata": {},
   "outputs": [
    {
     "name": "stdout",
     "output_type": "stream",
     "text": [
      "couleur et rayon de c : bleu, 2\n",
      "couleur et rayon de d : rouge, 5\n"
     ]
    }
   ],
   "source": [
    "class Cercle:\n",
    "\n",
    "    def __init__(self, rayon=2, couleur=\"bleu\"):\n",
    "        self.rayon = rayon  # Assigne à l'attribut 'rayon' la valeur du paramètre\n",
    "        self.couleur = couleur  # Assigne à l'attribut 'couleur' la valeur du paramètre\n",
    "\n",
    "# Instanciation avec les valeurs par défaut\n",
    "c = Cercle()\n",
    "# Instanciation avec des valeurs personnalisées\n",
    "d = Cercle(5, \"rouge\")\n",
    "\n",
    "print(f\"couleur et rayon de c : {c.couleur}, {c.rayon}\\ncouleur et rayon de d : {d.couleur}, {d.rayon}\")"
   ]
  },
  {
   "cell_type": "markdown",
   "id": "59fc6cd0",
   "metadata": {},
   "source": [
    "### Suppression d'un objet avec la méthode `__del__`\n",
    "\n",
    "Python dispose de l'outil 'ramasse miette' qui efface tout les objets qui ne sont plus utilisés dans le programme<br>\n",
    "L'appel à `__del__` ne se fait que lorsque plus aucune référence n'est faite à une instance<br>\n",
    "Pour supprimer une référence à une instance, il faut utiliser le mot clé `del`"
   ]
  },
  {
   "cell_type": "code",
   "execution_count": 154,
   "id": "5e1cda08",
   "metadata": {},
   "outputs": [
    {
     "name": "stdout",
     "output_type": "stream",
     "text": [
      "Instanciation de test_1 et test_2\n",
      "Appel du constructeur de test_1\n",
      "Appel du constructeur de test_2\n",
      "Appel du destructeur\n",
      "\n",
      "dans un Jupyter Notebook\n",
      "le comportement de __del__ est très différent de celui d’un script normal\n",
      "__del__ peut être appelé à des moments inattendus\n",
      "vant même que l'appel à del\n",
      "ou quand la cellule s’exécute.\n",
      "\n",
      "Suppression de test_1\n",
      "Appel du destructeur\n",
      "test1 existe-t-il encore ? False\n",
      "test2 existe-t-il encore ? True\n"
     ]
    }
   ],
   "source": [
    "class Test:\n",
    "    # Surcharge du constructeur puis du destructeur\n",
    "    def __init__(self, nom):\n",
    "        self.nom = nom\n",
    "        print(f\"Appel du constructeur de {self.nom}\", flush=True)\n",
    "\n",
    "    def __del__(self):\n",
    "        print(\"Appel du destructeur\", flush=True)\n",
    "\n",
    "\n",
    "print(\"Instanciation de test_1 et test_2\", flush=True)\n",
    "test_1 = Test(\"test_1\")\n",
    "test_2 = Test(\"test_2\")\n",
    "\n",
    "print(\"\\ndans un Jupyter Notebook\\nle comportement de __del__ est très différent de celui d’un script normal\\n__del__ peut être appelé à des moments inattendus\\nvant même que l'appel à del\\nou quand la cellule s’exécute.\")\n",
    "\n",
    "print(\"\\nSuppression de test_1\")\n",
    "del test_1\n",
    "\n",
    "print(f\"test1 existe-t-il encore ? {'test_1' in locals()}\\n\\\n",
    "test2 existe-t-il encore ? {'test_2' in locals()}\", flush=True)"
   ]
  },
  {
   "cell_type": "code",
   "execution_count": null,
   "id": "26ea9632",
   "metadata": {},
   "outputs": [
    {
     "name": "stdout",
     "output_type": "stream",
     "text": [
      "Création des objets\n",
      "Création de test_1\n",
      "Création de test_2\n",
      "\n",
      "Objets existants : ['test_1', 'test_2']\n",
      "\n",
      "Destruction de test_1\n",
      "Destruction explicite de test_1\n",
      "\n",
      "Objets restants : ['test_2']\n"
     ]
    }
   ],
   "source": [
    "class Test:\n",
    "    instances = []\n",
    "\n",
    "    def __init__(self, nom):\n",
    "        self.nom = nom\n",
    "        Test.instances.append(self)\n",
    "        print(f\"Création de {self.nom}\")\n",
    "\n",
    "    def destroy(self):\n",
    "        \"\"\"Méthode pour supprimer explicitement l'objet\"\"\"\n",
    "        if self in Test.instances:\n",
    "            Test.instances.remove(self)\n",
    "            print(f\"Destruction explicite de {self.nom}\")\n",
    "\n",
    "# Instanciation\n",
    "print(\"Création des objets\")\n",
    "test_1 = Test(\"test_1\")\n",
    "test_2 = Test(\"test_2\")\n",
    "\n",
    "# Vérification des objets existants\n",
    "print(\"\\nObjets existants :\", [obj.nom for obj in Test.instances])\n",
    "\n",
    "# Suppression explicite de test_1\n",
    "print(\"\\nDestruction de test_1\")\n",
    "test_1.destroy()\n",
    "del test_1\n",
    "\n",
    "# Vérification après destruction\n",
    "print(\"\\nObjets restants :\", [obj.nom for obj in Test.instances])\n"
   ]
  }
 ],
 "metadata": {
  "kernelspec": {
   "display_name": "base",
   "language": "python",
   "name": "python3"
  },
  "language_info": {
   "codemirror_mode": {
    "name": "ipython",
    "version": 3
   },
   "file_extension": ".py",
   "mimetype": "text/x-python",
   "name": "python",
   "nbconvert_exporter": "python",
   "pygments_lexer": "ipython3",
   "version": "3.12.4"
  }
 },
 "nbformat": 4,
 "nbformat_minor": 5
}
